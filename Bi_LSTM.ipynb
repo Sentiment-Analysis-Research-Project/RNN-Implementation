{
  "nbformat": 4,
  "nbformat_minor": 0,
  "metadata": {
    "colab": {
      "name": "Bi-LSTM.ipynb",
      "provenance": []
    },
    "kernelspec": {
      "name": "python3",
      "display_name": "Python 3"
    },
    "language_info": {
      "name": "python"
    },
    "accelerator": "GPU"
  },
  "cells": [
    {
      "cell_type": "markdown",
      "metadata": {
        "id": "51UzA8bsmeE2"
      },
      "source": [
        "[**REFERENCE**](https://medium.com/aubergine-solutions/scratching-surface-of-rnn-gru-and-lstm-with-example-of-sentiment-analysis-8dd4e748d426)"
      ]
    },
    {
      "cell_type": "code",
      "metadata": {
        "colab": {
          "base_uri": "https://localhost:8080/"
        },
        "id": "eKfrdZn-jTGK",
        "outputId": "083f6709-3257-4415-e8e7-aab53261dcbd"
      },
      "source": [
        "from google.colab import drive\n",
        "drive.mount('/content/drive')"
      ],
      "execution_count": 1,
      "outputs": [
        {
          "output_type": "stream",
          "text": [
            "Mounted at /content/drive\n"
          ],
          "name": "stdout"
        }
      ]
    },
    {
      "cell_type": "code",
      "metadata": {
        "id": "Hzr1F-wpi56_"
      },
      "source": [
        "import numpy as np\n",
        "import pandas as pd\n",
        "import matplotlib.pyplot as plt\n",
        "import tensorflow as tf\n",
        "from tensorflow.keras.preprocessing.text import Tokenizer\n",
        "from tensorflow.keras.utils import to_categorical\n",
        "from tensorflow.keras.preprocessing.sequence import pad_sequences"
      ],
      "execution_count": 2,
      "outputs": []
    },
    {
      "cell_type": "code",
      "metadata": {
        "id": "0R4PtxZ0jC8q"
      },
      "source": [
        "df = pd.read_csv(\"/content/drive/MyDrive/Dataset IMDB/IMDB Dataset.csv\")\n",
        "\n",
        "train_set = 45000\n",
        "max_len_text = 2000\n",
        "\n",
        "df['sentiment'] = df['sentiment'].replace('positive', 1)\n",
        "df['sentiment'] = df['sentiment'].replace('negative', 0)"
      ],
      "execution_count": 3,
      "outputs": []
    },
    {
      "cell_type": "code",
      "metadata": {
        "id": "8BxQ-4wjjryU"
      },
      "source": [
        "tokenizer = Tokenizer(num_words=10000)\n",
        "tokenizer.fit_on_texts(df['review'])\n",
        "vector = tokenizer.texts_to_sequences(df['review'])"
      ],
      "execution_count": 4,
      "outputs": []
    },
    {
      "cell_type": "code",
      "metadata": {
        "colab": {
          "base_uri": "https://localhost:8080/"
        },
        "id": "6CDS4mL1ka28",
        "outputId": "c7f7356d-7d29-4729-8b3c-a933d8fb73d6"
      },
      "source": [
        "type(vector[0])"
      ],
      "execution_count": 5,
      "outputs": [
        {
          "output_type": "execute_result",
          "data": {
            "text/plain": [
              "list"
            ]
          },
          "metadata": {
            "tags": []
          },
          "execution_count": 5
        }
      ]
    },
    {
      "cell_type": "code",
      "metadata": {
        "id": "LVAvfTQYkHe6"
      },
      "source": [
        "train_data = np.array(vector,dtype=list)[:train_set]\n",
        "train_label = (np.array(df['sentiment'])[:train_set])\n",
        "test_data = np.array(vector,dtype=list)[train_set:]\n",
        "test_label = (np.array(df['sentiment'])[train_set:])"
      ],
      "execution_count": 6,
      "outputs": []
    },
    {
      "cell_type": "code",
      "metadata": {
        "id": "xAmCwrr-kMtQ"
      },
      "source": [
        "padded_train = pad_sequences(train_data, maxlen=max_len_text)\n",
        "padded_test = pad_sequences(test_data, maxlen=max_len_text)"
      ],
      "execution_count": 7,
      "outputs": []
    },
    {
      "cell_type": "code",
      "metadata": {
        "colab": {
          "base_uri": "https://localhost:8080/"
        },
        "id": "PcHxBg3uk3Ff",
        "outputId": "02ac88af-4e77-4b16-b32a-b2c30c79cfe2"
      },
      "source": [
        "model = tf.keras.Sequential()\n",
        "model.add(tf.keras.layers.Embedding(13000, 16, input_length=max_len_text))\n",
        "model.add(tf.keras.layers.Bidirectional(tf.keras.layers.LSTM(64, dropout=0.2)))\n",
        "model.add(tf.keras.layers.Dense(1, activation='sigmoid'))\n",
        "model.summary()"
      ],
      "execution_count": 8,
      "outputs": [
        {
          "output_type": "stream",
          "text": [
            "Model: \"sequential\"\n",
            "_________________________________________________________________\n",
            "Layer (type)                 Output Shape              Param #   \n",
            "=================================================================\n",
            "embedding (Embedding)        (None, 2000, 16)          208000    \n",
            "_________________________________________________________________\n",
            "bidirectional (Bidirectional (None, 128)               41472     \n",
            "_________________________________________________________________\n",
            "dense (Dense)                (None, 1)                 129       \n",
            "=================================================================\n",
            "Total params: 249,601\n",
            "Trainable params: 249,601\n",
            "Non-trainable params: 0\n",
            "_________________________________________________________________\n"
          ],
          "name": "stdout"
        }
      ]
    },
    {
      "cell_type": "code",
      "metadata": {
        "id": "ojWFTeellA5S"
      },
      "source": [
        "model.compile(loss='binary_crossentropy', optimizer='adam', metrics=['accuracy'])"
      ],
      "execution_count": 9,
      "outputs": []
    },
    {
      "cell_type": "code",
      "metadata": {
        "colab": {
          "base_uri": "https://localhost:8080/"
        },
        "id": "knEI1AFplExC",
        "outputId": "18531af9-10a9-46ac-f800-58fd99059bbd"
      },
      "source": [
        "history = model.fit(padded_train, train_label, epochs=4, validation_data=(padded_test, test_label))"
      ],
      "execution_count": 10,
      "outputs": [
        {
          "output_type": "stream",
          "text": [
            "Epoch 1/4\n",
            "1407/1407 [==============================] - 174s 117ms/step - loss: 0.4209 - accuracy: 0.8061 - val_loss: 0.2942 - val_accuracy: 0.8786\n",
            "Epoch 2/4\n",
            "1407/1407 [==============================] - 164s 116ms/step - loss: 0.2588 - accuracy: 0.9007 - val_loss: 1.6444 - val_accuracy: 0.5288\n",
            "Epoch 3/4\n",
            "1407/1407 [==============================] - 163s 116ms/step - loss: 0.2303 - accuracy: 0.9115 - val_loss: 0.2727 - val_accuracy: 0.8948\n",
            "Epoch 4/4\n",
            "1407/1407 [==============================] - 164s 117ms/step - loss: 0.1897 - accuracy: 0.9287 - val_loss: 0.2755 - val_accuracy: 0.8948\n"
          ],
          "name": "stdout"
        }
      ]
    },
    {
      "cell_type": "code",
      "metadata": {
        "id": "wlzGmjcKlI3c"
      },
      "source": [
        "def plotLearningCurve(history,epochs):\n",
        "    import matplotlib.pyplot as plt\n",
        "\n",
        "    epoch_range = range(1,epochs+1)\n",
        "    plt.plot(epoch_range,history['accuracy'])\n",
        "    plt.plot(epoch_range,history['val_accuracy'])\n",
        "    plt.title('Model Accuracy')\n",
        "    plt.xlabel('Epochs')\n",
        "    plt.ylabel('Accuracy')\n",
        "    plt.legend(['Train','Val'])\n",
        "    plt.show()\n",
        "\n",
        "    plt.plot(epoch_range,history['loss'])\n",
        "    plt.plot(epoch_range,history['val_loss'])\n",
        "    plt.title('Model Loss')\n",
        "    plt.xlabel('Epochs')\n",
        "    plt.ylabel('Loss')\n",
        "    plt.legend(['Train','Val'])\n",
        "    plt.show()"
      ],
      "execution_count": 11,
      "outputs": []
    },
    {
      "cell_type": "code",
      "metadata": {
        "colab": {
          "base_uri": "https://localhost:8080/",
          "height": 573
        },
        "id": "Wl15HxEBlm9V",
        "outputId": "7c803031-7f9d-464c-eebb-e5ee7113670c"
      },
      "source": [
        "plotLearningCurve(history.history,len(history.epoch))"
      ],
      "execution_count": 12,
      "outputs": [
        {
          "output_type": "display_data",
          "data": {
            "image/png": "[encoded data removed]",
            "text/plain": [
              "<Figure size 432x288 with 1 Axes>"
            ]
          },
          "metadata": {
            "tags": [],
            "needs_background": "light"
          }
        },
        {
          "output_type": "display_data",
          "data": {
            "image/png": "[encoded data removed]",
            "text/plain": [
              "<Figure size 432x288 with 1 Axes>"
            ]
          },
          "metadata": {
            "tags": [],
            "needs_background": "light"
          }
        }
      ]
    }
  ]
}