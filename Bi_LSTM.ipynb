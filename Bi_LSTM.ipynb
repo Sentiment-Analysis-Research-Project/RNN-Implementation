{
  "nbformat": 4,
  "nbformat_minor": 0,
  "metadata": {
    "colab": {
      "name": "Bi-LSTM.ipynb",
      "provenance": [],
      "authorship_tag": "ABX9TyNPGeOXL2NYrGbWBMBjSpDq",
      "include_colab_link": true
    },
    "kernelspec": {
      "name": "python3",
      "display_name": "Python 3"
    },
    "language_info": {
      "name": "python"
    },
    "accelerator": "GPU"
  },
  "cells": [
    {
      "cell_type": "markdown",
      "metadata": {
        "id": "view-in-github",
        "colab_type": "text"
      },
      "source": [
        "<a href=\"https://colab.research.google.com/github/Sentiment-Analysis-Research-Project/RNN-Implementation/blob/main/Bi_LSTM.ipynb\" target=\"_parent\"><img src=\"https://colab.research.google.com/assets/colab-badge.svg\" alt=\"Open In Colab\"/></a>"
      ]
    },
    {
      "cell_type": "markdown",
      "metadata": {
        "id": "51UzA8bsmeE2"
      },
      "source": [
        "[**REFERENCE**](https://medium.com/aubergine-solutions/scratching-surface-of-rnn-gru-and-lstm-with-example-of-sentiment-analysis-8dd4e748d426)"
      ]
    },
    {
      "cell_type": "markdown",
      "metadata": {
        "id": "iNYmU1QMYwqQ"
      },
      "source": [
        "## Mounting the drive to easily load the datasets"
      ]
    },
    {
      "cell_type": "code",
      "metadata": {
        "colab": {
          "base_uri": "https://localhost:8080/"
        },
        "id": "eKfrdZn-jTGK",
        "outputId": "e8493cf1-2216-4d35-933a-3618a16f8a67"
      },
      "source": [
        "from google.colab import drive\n",
        "drive.mount('/content/drive')"
      ],
      "execution_count": 2,
      "outputs": [
        {
          "output_type": "stream",
          "text": [
            "Mounted at /content/drive\n"
          ],
          "name": "stdout"
        }
      ]
    },
    {
      "cell_type": "markdown",
      "metadata": {
        "id": "l7MOASWdY1yn"
      },
      "source": [
        "## perform all the necessary imports"
      ]
    },
    {
      "cell_type": "code",
      "metadata": {
        "id": "Hzr1F-wpi56_"
      },
      "source": [
        "import numpy as np\n",
        "import pandas as pd\n",
        "import matplotlib.pyplot as plt\n",
        "import tensorflow as tf\n",
        "from tensorflow.keras.preprocessing.text import Tokenizer\n",
        "from tensorflow.keras.utils import to_categorical\n",
        "from tensorflow.keras.preprocessing.sequence import pad_sequences"
      ],
      "execution_count": 3,
      "outputs": []
    },
    {
      "cell_type": "markdown",
      "metadata": {
        "id": "E-KYzbQnY_Wn"
      },
      "source": [
        "## Load the Dataset"
      ]
    },
    {
      "cell_type": "code",
      "metadata": {
        "id": "0R4PtxZ0jC8q"
      },
      "source": [
        "df = pd.read_csv(\"/content/drive/MyDrive/Dataset IMDB/IMDB Dataset.csv\")\n",
        "\n",
        "#train-test split of 70-30\n",
        "train_set = 45000\n",
        "max_len_text = 2000\n",
        "\n",
        "df['sentiment'] = df['sentiment'].replace('positive', 1)\n",
        "df['sentiment'] = df['sentiment'].replace('negative', 0)"
      ],
      "execution_count": 4,
      "outputs": []
    },
    {
      "cell_type": "markdown",
      "metadata": {
        "id": "AM48t2bZZHv3"
      },
      "source": [
        "## Tokenize all the reviews"
      ]
    },
    {
      "cell_type": "code",
      "metadata": {
        "id": "8BxQ-4wjjryU"
      },
      "source": [
        "tokenizer = Tokenizer(num_words=10000)\n",
        "tokenizer.fit_on_texts(df['review'])\n",
        "vector = tokenizer.texts_to_sequences(df['review'])"
      ],
      "execution_count": 5,
      "outputs": []
    },
    {
      "cell_type": "code",
      "metadata": {
        "colab": {
          "base_uri": "https://localhost:8080/"
        },
        "id": "6CDS4mL1ka28",
        "outputId": "99680b7a-f018-433b-c130-5a3670d4019e"
      },
      "source": [
        "type(vector[0])"
      ],
      "execution_count": 6,
      "outputs": [
        {
          "output_type": "execute_result",
          "data": {
            "text/plain": [
              "list"
            ]
          },
          "metadata": {
            "tags": []
          },
          "execution_count": 6
        }
      ]
    },
    {
      "cell_type": "markdown",
      "metadata": {
        "id": "ddT2W_ogZQpW"
      },
      "source": [
        "## Seperate the train and test data"
      ]
    },
    {
      "cell_type": "code",
      "metadata": {
        "id": "LVAvfTQYkHe6"
      },
      "source": [
        "train_data = np.array(vector,dtype=list)[:train_set]\n",
        "train_label = (np.array(df['sentiment'])[:train_set])\n",
        "test_data = np.array(vector,dtype=list)[train_set:]\n",
        "test_label = (np.array(df['sentiment'])[train_set:])"
      ],
      "execution_count": 7,
      "outputs": []
    },
    {
      "cell_type": "markdown",
      "metadata": {
        "id": "2jprOvCcZVbu"
      },
      "source": [
        "### Pad data to make it uniform"
      ]
    },
    {
      "cell_type": "code",
      "metadata": {
        "id": "xAmCwrr-kMtQ"
      },
      "source": [
        "padded_train = pad_sequences(train_data, maxlen=max_len_text)\n",
        "padded_test = pad_sequences(test_data, maxlen=max_len_text)"
      ],
      "execution_count": 8,
      "outputs": []
    },
    {
      "cell_type": "markdown",
      "metadata": {
        "id": "b0w2vc6mZZdf"
      },
      "source": [
        "## Creating the RNN model"
      ]
    },
    {
      "cell_type": "code",
      "metadata": {
        "colab": {
          "base_uri": "https://localhost:8080/"
        },
        "id": "PcHxBg3uk3Ff",
        "outputId": "29a25d57-ba8f-4c63-befd-53e83f7f71c2"
      },
      "source": [
        "model = tf.keras.Sequential()\n",
        "model.add(tf.keras.layers.Embedding(13000, 16, input_length=max_len_text))\n",
        "model.add(tf.keras.layers.Bidirectional(tf.keras.layers.LSTM(64, dropout=0.2)))\n",
        "model.add(tf.keras.layers.Dense(1, activation='sigmoid'))\n",
        "model.summary()"
      ],
      "execution_count": 9,
      "outputs": [
        {
          "output_type": "stream",
          "text": [
            "Model: \"sequential\"\n",
            "_________________________________________________________________\n",
            "Layer (type)                 Output Shape              Param #   \n",
            "=================================================================\n",
            "embedding (Embedding)        (None, 2000, 16)          208000    \n",
            "_________________________________________________________________\n",
            "bidirectional (Bidirectional (None, 128)               41472     \n",
            "_________________________________________________________________\n",
            "dense (Dense)                (None, 1)                 129       \n",
            "=================================================================\n",
            "Total params: 249,601\n",
            "Trainable params: 249,601\n",
            "Non-trainable params: 0\n",
            "_________________________________________________________________\n"
          ],
          "name": "stdout"
        }
      ]
    },
    {
      "cell_type": "code",
      "metadata": {
        "id": "ojWFTeellA5S"
      },
      "source": [
        "model.compile(loss='binary_crossentropy', optimizer='adam', metrics=['accuracy'])"
      ],
      "execution_count": 10,
      "outputs": []
    },
    {
      "cell_type": "markdown",
      "metadata": {
        "id": "DhQokiI3Zepe"
      },
      "source": [
        "### Training the RNN model"
      ]
    },
    {
      "cell_type": "code",
      "metadata": {
        "colab": {
          "base_uri": "https://localhost:8080/"
        },
        "id": "knEI1AFplExC",
        "outputId": "d6a90021-1943-45fd-ce34-21fe8116aee1"
      },
      "source": [
        "EPOCHS = 10\n",
        "checkpoint_filepath = '/tmp/checkpoint'\n",
        "model_checkpoint_callback = tf.keras.callbacks.ModelCheckpoint(\n",
        "    filepath=checkpoint_filepath,\n",
        "    save_weights_only=True,\n",
        "    monitor='val_accuracy',\n",
        "    mode='max',\n",
        "    save_best_only=True)\n",
        "history = model.fit(padded_train, train_label, epochs=EPOCHS, validation_data=(padded_test, test_label),callbacks=[model_checkpoint_callback])"
      ],
      "execution_count": 11,
      "outputs": [
        {
          "output_type": "stream",
          "text": [
            "Epoch 1/10\n",
            "1407/1407 [==============================] - 180s 122ms/step - loss: 0.3968 - accuracy: 0.8231 - val_loss: 0.3073 - val_accuracy: 0.8768\n",
            "Epoch 2/10\n",
            "1407/1407 [==============================] - 172s 122ms/step - loss: 0.2520 - accuracy: 0.9015 - val_loss: 0.2783 - val_accuracy: 0.8892\n",
            "Epoch 3/10\n",
            "1407/1407 [==============================] - 172s 122ms/step - loss: 0.2175 - accuracy: 0.9162 - val_loss: 0.2710 - val_accuracy: 0.8898\n",
            "Epoch 4/10\n",
            "1407/1407 [==============================] - 172s 123ms/step - loss: 0.1947 - accuracy: 0.9262 - val_loss: 0.2902 - val_accuracy: 0.8940\n",
            "Epoch 5/10\n",
            "1407/1407 [==============================] - 174s 123ms/step - loss: 0.1655 - accuracy: 0.9381 - val_loss: 0.3079 - val_accuracy: 0.8776\n",
            "Epoch 6/10\n",
            "1407/1407 [==============================] - 173s 123ms/step - loss: 0.1524 - accuracy: 0.9433 - val_loss: 0.3476 - val_accuracy: 0.8896\n",
            "Epoch 7/10\n",
            "1407/1407 [==============================] - 173s 123ms/step - loss: 0.1319 - accuracy: 0.9521 - val_loss: 0.2909 - val_accuracy: 0.8918\n",
            "Epoch 8/10\n",
            "1407/1407 [==============================] - 174s 124ms/step - loss: 0.1259 - accuracy: 0.9534 - val_loss: 0.3234 - val_accuracy: 0.8892\n",
            "Epoch 9/10\n",
            "1407/1407 [==============================] - 175s 124ms/step - loss: 0.1074 - accuracy: 0.9627 - val_loss: 0.3393 - val_accuracy: 0.8858\n",
            "Epoch 10/10\n",
            "1407/1407 [==============================] - 174s 124ms/step - loss: 0.1022 - accuracy: 0.9634 - val_loss: 0.3686 - val_accuracy: 0.8912\n"
          ],
          "name": "stdout"
        }
      ]
    },
    {
      "cell_type": "code",
      "metadata": {
        "id": "wlzGmjcKlI3c"
      },
      "source": [
        "def plotLearningCurve(history,epochs):\n",
        "    import matplotlib.pyplot as plt\n",
        "\n",
        "    epoch_range = range(1,epochs+1)\n",
        "    plt.plot(epoch_range,history['accuracy'])\n",
        "    plt.plot(epoch_range,history['val_accuracy'])\n",
        "    plt.title('Model Accuracy')\n",
        "    plt.xlabel('Epochs')\n",
        "    plt.ylabel('Accuracy')\n",
        "    plt.legend(['Train','Val'])\n",
        "    plt.show()\n",
        "\n",
        "    plt.plot(epoch_range,history['loss'])\n",
        "    plt.plot(epoch_range,history['val_loss'])\n",
        "    plt.title('Model Loss')\n",
        "    plt.xlabel('Epochs')\n",
        "    plt.ylabel('Loss')\n",
        "    plt.legend(['Train','Val'])\n",
        "    plt.show()"
      ],
      "execution_count": 12,
      "outputs": []
    },
    {
      "cell_type": "markdown",
      "metadata": {
        "id": "1aPxe5IuZikm"
      },
      "source": [
        "## Plotting the Accuracy and Loss of our model"
      ]
    },
    {
      "cell_type": "code",
      "metadata": {
        "colab": {
          "base_uri": "https://localhost:8080/",
          "height": 573
        },
        "id": "Wl15HxEBlm9V",
        "outputId": "ec28c429-01e9-4de1-bd83-7d36358ce1ce"
      },
      "source": [
        "plotLearningCurve(history.history,len(history.epoch))"
      ],
      "execution_count": 13,
      "outputs": [
        {
          "output_type": "display_data",
          "data": {
            "image/png": "[encoded data removed]",
            "text/plain": [
              "<Figure size 432x288 with 1 Axes>"
            ]
          },
          "metadata": {
            "tags": [],
            "needs_background": "light"
          }
        },
        {
          "output_type": "display_data",
          "data": {
            "image/png": "[encoded data removed]",
            "text/plain": [
              "<Figure size 432x288 with 1 Axes>"
            ]
          },
          "metadata": {
            "tags": [],
            "needs_background": "light"
          }
        }
      ]
    }
  ]
}