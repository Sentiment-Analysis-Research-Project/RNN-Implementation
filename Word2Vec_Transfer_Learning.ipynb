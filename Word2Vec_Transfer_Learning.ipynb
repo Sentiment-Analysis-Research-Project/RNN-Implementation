{
  "nbformat": 4,
  "nbformat_minor": 0,
  "metadata": {
    "colab": {
      "name": "Word2Vec - Transfer Learning.ipynb",
      "provenance": [],
      "collapsed_sections": [],
      "authorship_tag": "ABX9TyOfnJhHfyVyI7Qvc6hsdijX",
      "include_colab_link": true
    },
    "kernelspec": {
      "name": "python3",
      "display_name": "Python 3"
    },
    "language_info": {
      "name": "python"
    },
    "accelerator": "GPU"
  },
  "cells": [
    {
      "cell_type": "markdown",
      "metadata": {
        "id": "view-in-github",
        "colab_type": "text"
      },
      "source": [
        "<a href=\"https://colab.research.google.com/github/Sentiment-Analysis-Research-Project/RNN-Implementation/blob/main/Word2Vec_Transfer_Learning.ipynb\" target=\"_parent\"><img src=\"https://colab.research.google.com/assets/colab-badge.svg\" alt=\"Open In Colab\"/></a>"
      ]
    },
    {
      "cell_type": "markdown",
      "metadata": {
        "id": "rF7_WtmP2ez3"
      },
      "source": [
        "[*Reference*1](https://www.kaggle.com/pierremegret/gensim-word2vec-tutorial)<br>\n",
        "[*Reference*2](https://towardsdatascience.com/machine-learning-word-embedding-sentiment-classification-using-keras-b83c28087456)<br>\n",
        "[*Reference*3](https://machinelearningmastery.com/use-word-embedding-layers-deep-learning-keras/)<br>\n",
        "[**KERAS**](https://keras.io/)"
      ]
    },
    {
      "cell_type": "markdown",
      "metadata": {
        "id": "-ROuZE51eg9g"
      },
      "source": [
        "# Word2Vec"
      ]
    },
    {
      "cell_type": "markdown",
      "metadata": {
        "id": "oYhfJuRNemC9"
      },
      "source": [
        "Input - Text Corpus<br>\n",
        "Output - set of words<br>\n",
        "A well-trained set of word vectors will place similar words close to each other in that space"
      ]
    },
    {
      "cell_type": "markdown",
      "metadata": {
        "id": "urKbFjWVe_Lv"
      },
      "source": [
        "![model image](https://miro.medium.com/max/1728/1*HmmFCZpKk3i4EvMYZ855tg.png)"
      ]
    },
    {
      "cell_type": "markdown",
      "metadata": {
        "id": "i4oYJAPSfG-G"
      },
      "source": [
        "Two main training algorithms\n",
        "- CBOW -> using context to predict a target word\n",
        "- Skip-gram -> using a word to predict a target context"
      ]
    },
    {
      "cell_type": "markdown",
      "metadata": {
        "id": "ih_EqN1kg4gl"
      },
      "source": [
        "### Mounting the drive to use dataset"
      ]
    },
    {
      "cell_type": "code",
      "metadata": {
        "colab": {
          "base_uri": "https://localhost:8080/"
        },
        "id": "GaPVmB7Tdvbf",
        "outputId": "76b15e88-1b4b-41d1-a3b4-ebdf7ed5168e"
      },
      "source": [
        "from google.colab import drive\n",
        "drive.mount('/content/drive')"
      ],
      "execution_count": 1,
      "outputs": [
        {
          "output_type": "stream",
          "text": [
            "Mounted at /content/drive\n"
          ],
          "name": "stdout"
        }
      ]
    },
    {
      "cell_type": "code",
      "metadata": {
        "id": "O3FmrjpkbbsZ"
      },
      "source": [
        "import pandas as pd"
      ],
      "execution_count": 2,
      "outputs": []
    },
    {
      "cell_type": "code",
      "metadata": {
        "id": "KFzHcKiudhx_"
      },
      "source": [
        "df = pd.read_csv(\"/content/drive/MyDrive/Dataset IMDB/IMDB Dataset.csv\")"
      ],
      "execution_count": 3,
      "outputs": []
    },
    {
      "cell_type": "code",
      "metadata": {
        "colab": {
          "base_uri": "https://localhost:8080/"
        },
        "id": "_JqlH6ObJUny",
        "outputId": "45ee5414-7376-48c8-9e8c-5c0d8db56ae5"
      },
      "source": [
        "import nltk\n",
        "import re\n",
        "nltk.download('punkt')\n",
        "nltk.download('stopwords')\n",
        "nltk.download('wordnet')"
      ],
      "execution_count": 4,
      "outputs": [
        {
          "output_type": "stream",
          "text": [
            "[nltk_data] Downloading package punkt to /root/nltk_data...\n",
            "[nltk_data]   Unzipping tokenizers/punkt.zip.\n",
            "[nltk_data] Downloading package stopwords to /root/nltk_data...\n",
            "[nltk_data]   Unzipping corpora/stopwords.zip.\n",
            "[nltk_data] Downloading package wordnet to /root/nltk_data...\n",
            "[nltk_data]   Unzipping corpora/wordnet.zip.\n"
          ],
          "name": "stdout"
        },
        {
          "output_type": "execute_result",
          "data": {
            "text/plain": [
              "True"
            ]
          },
          "metadata": {
            "tags": []
          },
          "execution_count": 4
        }
      ]
    },
    {
      "cell_type": "code",
      "metadata": {
        "colab": {
          "base_uri": "https://localhost:8080/",
          "height": 204
        },
        "id": "krPvwsT9eCVm",
        "outputId": "a04a4e83-ba95-43c2-86ec-79988e5c810e"
      },
      "source": [
        "df.head()"
      ],
      "execution_count": 5,
      "outputs": [
        {
          "output_type": "execute_result",
          "data": {
            "text/html": [
              "<div>\n",
              "<style scoped>\n",
              "    .dataframe tbody tr th:only-of-type {\n",
              "        vertical-align: middle;\n",
              "    }\n",
              "\n",
              "    .dataframe tbody tr th {\n",
              "        vertical-align: top;\n",
              "    }\n",
              "\n",
              "    .dataframe thead th {\n",
              "        text-align: right;\n",
              "    }\n",
              "</style>\n",
              "<table border=\"1\" class=\"dataframe\">\n",
              "  <thead>\n",
              "    <tr style=\"text-align: right;\">\n",
              "      <th></th>\n",
              "      <th>review</th>\n",
              "      <th>sentiment</th>\n",
              "    </tr>\n",
              "  </thead>\n",
              "  <tbody>\n",
              "    <tr>\n",
              "      <th>0</th>\n",
              "      <td>One of the other reviewers has mentioned that ...</td>\n",
              "      <td>positive</td>\n",
              "    </tr>\n",
              "    <tr>\n",
              "      <th>1</th>\n",
              "      <td>A wonderful little production. &lt;br /&gt;&lt;br /&gt;The...</td>\n",
              "      <td>positive</td>\n",
              "    </tr>\n",
              "    <tr>\n",
              "      <th>2</th>\n",
              "      <td>I thought this was a wonderful way to spend ti...</td>\n",
              "      <td>positive</td>\n",
              "    </tr>\n",
              "    <tr>\n",
              "      <th>3</th>\n",
              "      <td>Basically there's a family where a little boy ...</td>\n",
              "      <td>negative</td>\n",
              "    </tr>\n",
              "    <tr>\n",
              "      <th>4</th>\n",
              "      <td>Petter Mattei's \"Love in the Time of Money\" is...</td>\n",
              "      <td>positive</td>\n",
              "    </tr>\n",
              "  </tbody>\n",
              "</table>\n",
              "</div>"
            ],
            "text/plain": [
              "                                              review sentiment\n",
              "0  One of the other reviewers has mentioned that ...  positive\n",
              "1  A wonderful little production. <br /><br />The...  positive\n",
              "2  I thought this was a wonderful way to spend ti...  positive\n",
              "3  Basically there's a family where a little boy ...  negative\n",
              "4  Petter Mattei's \"Love in the Time of Money\" is...  positive"
            ]
          },
          "metadata": {
            "tags": []
          },
          "execution_count": 5
        }
      ]
    },
    {
      "cell_type": "code",
      "metadata": {
        "id": "asyTVTLEH9Ty"
      },
      "source": [
        "df['sentiment'][df['sentiment']=='positive'] = 1\n",
        "df['sentiment'][df['sentiment']=='negative'] = 0"
      ],
      "execution_count": 6,
      "outputs": []
    },
    {
      "cell_type": "code",
      "metadata": {
        "colab": {
          "base_uri": "https://localhost:8080/"
        },
        "id": "gUBUyTgag_xr",
        "outputId": "970f3bca-8d38-4fcc-94ff-97400f7ccebd"
      },
      "source": [
        "df.shape"
      ],
      "execution_count": 7,
      "outputs": [
        {
          "output_type": "execute_result",
          "data": {
            "text/plain": [
              "(50000, 2)"
            ]
          },
          "metadata": {
            "tags": []
          },
          "execution_count": 7
        }
      ]
    },
    {
      "cell_type": "code",
      "metadata": {
        "colab": {
          "base_uri": "https://localhost:8080/",
          "height": 137
        },
        "id": "GwOstRY8nn7h",
        "outputId": "1ddc103d-9f16-40af-ead6-b8e829bd89bb"
      },
      "source": [
        "df['review'].values.tolist()[0]"
      ],
      "execution_count": 8,
      "outputs": [
        {
          "output_type": "execute_result",
          "data": {
            "application/vnd.google.colaboratory.intrinsic+json": {
              "type": "string"
            },
            "text/plain": [
              "\"One of the other reviewers has mentioned that after watching just 1 Oz episode you'll be hooked. They are right, as this is exactly what happened with me.<br /><br />The first thing that struck me about Oz was its brutality and unflinching scenes of violence, which set in right from the word GO. Trust me, this is not a show for the faint hearted or timid. This show pulls no punches with regards to drugs, sex or violence. Its is hardcore, in the classic use of the word.<br /><br />It is called OZ as that is the nickname given to the Oswald Maximum Security State Penitentary. It focuses mainly on Emerald City, an experimental section of the prison where all the cells have glass fronts and face inwards, so privacy is not high on the agenda. Em City is home to many..Aryans, Muslims, gangstas, Latinos, Christians, Italians, Irish and more....so scuffles, death stares, dodgy dealings and shady agreements are never far away.<br /><br />I would say the main appeal of the show is due to the fact that it goes where other shows wouldn't dare. Forget pretty pictures painted for mainstream audiences, forget charm, forget romance...OZ doesn't mess around. The first episode I ever saw struck me as so nasty it was surreal, I couldn't say I was ready for it, but as I watched more, I developed a taste for Oz, and got accustomed to the high levels of graphic violence. Not just violence, but injustice (crooked guards who'll be sold out for a nickel, inmates who'll kill on order and get away with it, well mannered, middle class inmates being turned into prison bitches due to their lack of street skills or prison experience) Watching Oz, you may become comfortable with what is uncomfortable viewing....thats if you can get in touch with your darker side.\""
            ]
          },
          "metadata": {
            "tags": []
          },
          "execution_count": 8
        }
      ]
    },
    {
      "cell_type": "code",
      "metadata": {
        "id": "g4OAkNBCJanp"
      },
      "source": [
        "from gensim.models import Word2Vec\n",
        "from nltk.corpus import stopwords\n",
        "from nltk.stem import WordNetLemmatizer\n",
        "from nltk.stem import PorterStemmer\n",
        "import string\n",
        "import re #regular expression\n",
        "from nltk.tokenize import word_tokenize\n",
        "from nltk.corpus import stopwords\n",
        "import numpy as np"
      ],
      "execution_count": 9,
      "outputs": []
    },
    {
      "cell_type": "code",
      "metadata": {
        "id": "JIoRiCpgkViT"
      },
      "source": [
        "lemmatizer = WordNetLemmatizer()\n",
        "reviews = list()\n",
        "stop_words = set(stopwords.words('english'))\n",
        "lines = df['review'].values.tolist()\n",
        "\n",
        "for line in lines:\n",
        "    \n",
        "    #first we remove the tags as once we split them to words its hard to remove them\n",
        "    line = re.sub(r'<[^>]+>',' ',line) #remove html tags\n",
        "    \n",
        "    tokens = word_tokenize(line)\n",
        "    tokens = [w.lower() for w in tokens]\n",
        "    \n",
        "    #remove punctuaution\n",
        "    table = str.maketrans('','',string.punctuation)\n",
        "    stripped = [w.translate(table) for w in tokens]\n",
        "\n",
        "    #remove remaining tokens that are not alphabetic\n",
        "    words = [word for word in stripped if word.isalpha()]\n",
        "\n",
        "    #filter out stop words\n",
        "    words = [lemmatizer.lemmatize(w) for w in words if w not in stop_words]\n",
        "    reviews.append(words)"
      ],
      "execution_count": 10,
      "outputs": []
    },
    {
      "cell_type": "code",
      "metadata": {
        "id": "bqgcdXgVTnAq"
      },
      "source": [
        "EMBED_DIM = 100"
      ],
      "execution_count": 11,
      "outputs": []
    },
    {
      "cell_type": "code",
      "metadata": {
        "id": "nZ88iJBbI0uE",
        "colab": {
          "base_uri": "https://localhost:8080/"
        },
        "outputId": "b84a06ee-ebea-48ef-b846-c2094d3e824c"
      },
      "source": [
        "len(reviews)"
      ],
      "execution_count": 12,
      "outputs": [
        {
          "output_type": "execute_result",
          "data": {
            "text/plain": [
              "50000"
            ]
          },
          "metadata": {
            "tags": []
          },
          "execution_count": 12
        }
      ]
    },
    {
      "cell_type": "code",
      "metadata": {
        "id": "1kV6Lh0vovVo",
        "colab": {
          "base_uri": "https://localhost:8080/"
        },
        "outputId": "4fe8b9cd-1d1b-45b0-bae3-430ee82a6ece"
      },
      "source": [
        "sum_len = sum([len(s) for s in reviews])\n",
        "max_len = max([len(s) for s in reviews])\n",
        "avg_len = int(sum_len/len(reviews))\n",
        "print(f'summation - {sum_len}, maximum - {max_len}, average - {avg_len}')"
      ],
      "execution_count": 13,
      "outputs": [
        {
          "output_type": "stream",
          "text": [
            "summation - 5904336, maximum - 1420, average - 118\n"
          ],
          "name": "stdout"
        }
      ]
    },
    {
      "cell_type": "code",
      "metadata": {
        "id": "AOQRdKjAJxMi",
        "colab": {
          "base_uri": "https://localhost:8080/"
        },
        "outputId": "fe1c8d87-c5f0-49fa-ec6a-f8bd0d23023a"
      },
      "source": [
        "import gensim\n",
        "#train word2vec model\n",
        "model = gensim.models.Word2Vec(sentences=reviews,size=EMBED_DIM,window=2,workers=4,min_count=1)\n",
        "#see about these parameters\n",
        "words = list(model.wv.vocab)\n",
        "print(f'Vocabulary size: {len(words)}')"
      ],
      "execution_count": 14,
      "outputs": [
        {
          "output_type": "stream",
          "text": [
            "Vocabulary size: 124608\n"
          ],
          "name": "stdout"
        }
      ]
    },
    {
      "cell_type": "code",
      "metadata": {
        "id": "H6yHAkbPr8gN",
        "colab": {
          "base_uri": "https://localhost:8080/"
        },
        "outputId": "7cb4c880-334a-471d-c80f-4867b46af806"
      },
      "source": [
        "model.wv.most_similar('horrible')"
      ],
      "execution_count": 15,
      "outputs": [
        {
          "output_type": "execute_result",
          "data": {
            "text/plain": [
              "[('terrible', 0.9072104692459106),\n",
              " ('awful', 0.8711293935775757),\n",
              " ('horrendous', 0.8451089859008789),\n",
              " ('dreadful', 0.8349425792694092),\n",
              " ('atrocious', 0.8205019235610962),\n",
              " ('horrid', 0.8179301619529724),\n",
              " ('lousy', 0.8020857572555542),\n",
              " ('appalling', 0.7886019945144653),\n",
              " ('pathetic', 0.7866101264953613),\n",
              " ('laughable', 0.7719804644584656)]"
            ]
          },
          "metadata": {
            "tags": []
          },
          "execution_count": 15
        }
      ]
    },
    {
      "cell_type": "code",
      "metadata": {
        "id": "jDB9GyOuLVyh"
      },
      "source": [
        "#save model\n",
        "filename = 'imdb_embedding_word2vec.txt'\n",
        "model.wv.save_word2vec_format(filename,binary=False)"
      ],
      "execution_count": 16,
      "outputs": []
    },
    {
      "cell_type": "markdown",
      "metadata": {
        "id": "nwyBssoRL4ei"
      },
      "source": [
        "### Use Pre-trained Embedding"
      ]
    },
    {
      "cell_type": "code",
      "metadata": {
        "id": "mA8-Q-bsLjGM",
        "colab": {
          "base_uri": "https://localhost:8080/"
        },
        "outputId": "eb4cdc04-9fb0-40e5-8b02-0a3777d28dc7"
      },
      "source": [
        "import os\n",
        "import numpy as np\n",
        "\n",
        "embeddings_index = {}\n",
        "f = open('/content/drive/MyDrive/Dataset IMDB/imdb_embedding_word2vec.txt',encoding='utf-8')\n",
        "for line in f:\n",
        "    values = line.split()\n",
        "    word = values[0]\n",
        "    coefs = np.asarray(values[1:])\n",
        "    embeddings_index[word] = coefs\n",
        "f.close()\n",
        "print(f'loaded {len(embeddings_index)} word vectors')"
      ],
      "execution_count": 17,
      "outputs": [
        {
          "output_type": "stream",
          "text": [
            "loaded 134133 word vectors\n"
          ],
          "name": "stdout"
        }
      ]
    },
    {
      "cell_type": "code",
      "metadata": {
        "id": "4bZGAirZf40u"
      },
      "source": [
        "from keras.preprocessing.text import Tokenizer\n",
        "from keras.preprocessing.sequence import pad_sequences"
      ],
      "execution_count": 18,
      "outputs": []
    },
    {
      "cell_type": "code",
      "metadata": {
        "id": "9Ts98OT6NGgR",
        "colab": {
          "base_uri": "https://localhost:8080/"
        },
        "outputId": "2f7b9af1-485f-4875-88ce-58e3b2e4b371"
      },
      "source": [
        "#vectorize the text samples into 2D integer tensor\n",
        "tokenizer_obj = Tokenizer()\n",
        "tokenizer_obj.fit_on_texts(reviews)\n",
        "sequences = tokenizer_obj.texts_to_sequences(reviews)\n",
        "\n",
        "\n",
        "#pad sequences\n",
        "word_index = tokenizer_obj.word_index\n",
        "print(f'Found {len(word_index)} unique tokens.')\n",
        "\n",
        "\n",
        "review_pad = pad_sequences(sequences, maxlen=max_len,padding='post')\n",
        "sentiment = df['sentiment'].values\n",
        "print('Shape of review tensor:',review_pad.shape)\n",
        "print('Shape of sentiment tensor:',sentiment.shape)"
      ],
      "execution_count": 19,
      "outputs": [
        {
          "output_type": "stream",
          "text": [
            "Found 124608 unique tokens.\n",
            "Shape of review tensor: (50000, 1420)\n",
            "Shape of sentiment tensor: (50000,)\n"
          ],
          "name": "stdout"
        }
      ]
    },
    {
      "cell_type": "code",
      "metadata": {
        "id": "yWOa_sVKiqiZ"
      },
      "source": [
        "num_words = len(word_index) + 1\n",
        "embedding_matrix = np.zeros((num_words, EMBED_DIM))\n",
        "\n",
        "for word, i in word_index.items():\n",
        "    # if i>num_words:\n",
        "    #     continue\n",
        "    embedding_vector = embeddings_index.get(word)\n",
        "    if embedding_vector is not None:\n",
        "        embedding_matrix[i] = embedding_vector"
      ],
      "execution_count": 20,
      "outputs": []
    },
    {
      "cell_type": "code",
      "metadata": {
        "id": "414kPtPsxmQl",
        "colab": {
          "base_uri": "https://localhost:8080/"
        },
        "outputId": "6bfd73a1-7d28-4516-8b8f-023b238066af"
      },
      "source": [
        "embedding_matrix.shape"
      ],
      "execution_count": 21,
      "outputs": [
        {
          "output_type": "execute_result",
          "data": {
            "text/plain": [
              "(124609, 100)"
            ]
          },
          "metadata": {
            "tags": []
          },
          "execution_count": 21
        }
      ]
    },
    {
      "cell_type": "code",
      "metadata": {
        "id": "vUJU3idGwjfD",
        "colab": {
          "base_uri": "https://localhost:8080/"
        },
        "outputId": "74100ee9-3f85-4488-ae5f-36d5abbf8243"
      },
      "source": [
        "print(num_words)"
      ],
      "execution_count": 22,
      "outputs": [
        {
          "output_type": "stream",
          "text": [
            "124609\n"
          ],
          "name": "stdout"
        }
      ]
    },
    {
      "cell_type": "code",
      "metadata": {
        "id": "2Qmz7L1EjYQg",
        "colab": {
          "base_uri": "https://localhost:8080/"
        },
        "outputId": "4d59ecd8-adc3-42c1-c52a-084be6bb837f"
      },
      "source": [
        "from keras.models import Sequential\n",
        "from keras.layers import Dense, Embedding, LSTM, GRU, Bidirectional\n",
        "from keras.layers.embeddings import Embedding\n",
        "from keras.initializers import Constant\n",
        "\n",
        "#define model\n",
        "model = Sequential()\n",
        "embedding_layer = Embedding(num_words,EMBED_DIM,weights=[embedding_matrix],input_length=max_len,trainable=False)\n",
        "model.add(embedding_layer)\n",
        "model.add(Bidirectional(LSTM(64,dropout=0.2)))\n",
        "model.add(Dense(1,activation='sigmoid'))\n",
        "\n",
        "model.compile(loss='binary_crossentropy',optimizer='adam',metrics=['accuracy'])\n",
        "model.summary()"
      ],
      "execution_count": 23,
      "outputs": [
        {
          "output_type": "stream",
          "text": [
            "Model: \"sequential\"\n",
            "_________________________________________________________________\n",
            "Layer (type)                 Output Shape              Param #   \n",
            "=================================================================\n",
            "embedding (Embedding)        (None, 1420, 100)         12460900  \n",
            "_________________________________________________________________\n",
            "bidirectional (Bidirectional (None, 128)               84480     \n",
            "_________________________________________________________________\n",
            "dense (Dense)                (None, 1)                 129       \n",
            "=================================================================\n",
            "Total params: 12,545,509\n",
            "Trainable params: 84,609\n",
            "Non-trainable params: 12,460,900\n",
            "_________________________________________________________________\n"
          ],
          "name": "stdout"
        }
      ]
    },
    {
      "cell_type": "code",
      "metadata": {
        "id": "FRSprcZ__Ih_"
      },
      "source": [
        "VALIDATION_SPLIT = 0.3 #70-30 train test split\n",
        "indices = np.arange(review_pad.shape[0])\n",
        "\n",
        "np.random.shuffle(indices)\n",
        "review_pad = review_pad[indices]\n",
        "sentiment = sentiment[indices]\n",
        "num_validation_samples = int(VALIDATION_SPLIT * review_pad.shape[0])\n",
        "\n",
        "X_train_pad = review_pad[:-num_validation_samples]\n",
        "y_train = sentiment[:-num_validation_samples]\n",
        "X_test_pad = review_pad[-num_validation_samples:]\n",
        "y_test = sentiment[-num_validation_samples:]"
      ],
      "execution_count": 24,
      "outputs": []
    },
    {
      "cell_type": "code",
      "metadata": {
        "id": "9ewXKWQvITne",
        "colab": {
          "base_uri": "https://localhost:8080/"
        },
        "outputId": "f8d29066-2627-4d1c-9084-23470d521ccb"
      },
      "source": [
        "print(f'Shape of X_train_pad tensor: {X_train_pad.shape}')\n",
        "print(f'Shape of y_train tensor: {y_train.shape}')\n",
        "print(f'Shape of X_test_pad tensor: {X_test_pad.shape}')\n",
        "print(f'Shape of y_test tensor: {y_test.shape}')"
      ],
      "execution_count": 25,
      "outputs": [
        {
          "output_type": "stream",
          "text": [
            "Shape of X_train_pad tensor: (35000, 1420)\n",
            "Shape of y_train tensor: (35000,)\n",
            "Shape of X_test_pad tensor: (15000, 1420)\n",
            "Shape of y_test tensor: (15000,)\n"
          ],
          "name": "stdout"
        }
      ]
    },
    {
      "cell_type": "markdown",
      "metadata": {
        "id": "Eee-FRj96yXB"
      },
      "source": [
        "X_train_pad -> X_train<br>\n",
        "y_train -> y_train<br>\n",
        "X_test_pad -> X_test<br>\n",
        "y_test -> y_test"
      ]
    },
    {
      "cell_type": "code",
      "metadata": {
        "id": "hY8GbP4g6irD"
      },
      "source": [
        "y_train = np.asarray(y_train,dtype=np.int)\n",
        "y_test = np.asarray(y_test,dtype=np.int)"
      ],
      "execution_count": 35,
      "outputs": []
    },
    {
      "cell_type": "code",
      "metadata": {
        "id": "oWspbd7NIt-b",
        "colab": {
          "base_uri": "https://localhost:8080/"
        },
        "outputId": "c46eabaf-c0e5-4cba-db0e-9d8b77252b18"
      },
      "source": [
        "print('Train....')\n",
        "history = model.fit(X_train_pad, y_train, batch_size=128, epochs=25, validation_data=(X_test_pad,y_test),verbose=1)"
      ],
      "execution_count": 37,
      "outputs": [
        {
          "output_type": "stream",
          "text": [
            "Train....\n",
            "Epoch 1/25\n",
            "274/274 [==============================] - 73s 178ms/step - loss: 0.5429 - accuracy: 0.7129 - val_loss: 0.3559 - val_accuracy: 0.8493\n",
            "Epoch 2/25\n",
            "274/274 [==============================] - 47s 173ms/step - loss: 0.3818 - accuracy: 0.8355 - val_loss: 0.3180 - val_accuracy: 0.8689\n",
            "Epoch 3/25\n",
            "274/274 [==============================] - 48s 174ms/step - loss: 0.3434 - accuracy: 0.8521 - val_loss: 0.3017 - val_accuracy: 0.8779\n",
            "Epoch 4/25\n",
            "274/274 [==============================] - 48s 177ms/step - loss: 0.3071 - accuracy: 0.8701 - val_loss: 0.2816 - val_accuracy: 0.8834\n",
            "Epoch 5/25\n",
            "274/274 [==============================] - 48s 175ms/step - loss: 0.2976 - accuracy: 0.8727 - val_loss: 0.2858 - val_accuracy: 0.8857\n",
            "Epoch 6/25\n",
            "274/274 [==============================] - 48s 174ms/step - loss: 0.2823 - accuracy: 0.8818 - val_loss: 0.2737 - val_accuracy: 0.8893\n",
            "Epoch 7/25\n",
            "274/274 [==============================] - 48s 174ms/step - loss: 0.2719 - accuracy: 0.8867 - val_loss: 0.2663 - val_accuracy: 0.8913\n",
            "Epoch 8/25\n",
            "274/274 [==============================] - 48s 174ms/step - loss: 0.2607 - accuracy: 0.8938 - val_loss: 0.2745 - val_accuracy: 0.8920\n",
            "Epoch 9/25\n",
            "274/274 [==============================] - 48s 174ms/step - loss: 0.2569 - accuracy: 0.8928 - val_loss: 0.2628 - val_accuracy: 0.8952\n",
            "Epoch 10/25\n",
            "274/274 [==============================] - 48s 174ms/step - loss: 0.2476 - accuracy: 0.8971 - val_loss: 0.2718 - val_accuracy: 0.8917\n",
            "Epoch 11/25\n",
            "274/274 [==============================] - 48s 175ms/step - loss: 0.2411 - accuracy: 0.9015 - val_loss: 0.2623 - val_accuracy: 0.8970\n",
            "Epoch 12/25\n",
            "274/274 [==============================] - 48s 174ms/step - loss: 0.2396 - accuracy: 0.9013 - val_loss: 0.2559 - val_accuracy: 0.8953\n",
            "Epoch 13/25\n",
            "274/274 [==============================] - 48s 174ms/step - loss: 0.2295 - accuracy: 0.9073 - val_loss: 0.2568 - val_accuracy: 0.8969\n",
            "Epoch 14/25\n",
            "274/274 [==============================] - 48s 174ms/step - loss: 0.2264 - accuracy: 0.9074 - val_loss: 0.2618 - val_accuracy: 0.8950\n",
            "Epoch 15/25\n",
            "274/274 [==============================] - 48s 174ms/step - loss: 0.2239 - accuracy: 0.9077 - val_loss: 0.2628 - val_accuracy: 0.8968\n",
            "Epoch 16/25\n",
            "274/274 [==============================] - 48s 175ms/step - loss: 0.2173 - accuracy: 0.9108 - val_loss: 0.2566 - val_accuracy: 0.8989\n",
            "Epoch 17/25\n",
            "274/274 [==============================] - 48s 175ms/step - loss: 0.2093 - accuracy: 0.9142 - val_loss: 0.2569 - val_accuracy: 0.8974\n",
            "Epoch 18/25\n",
            "274/274 [==============================] - 48s 174ms/step - loss: 0.2144 - accuracy: 0.9132 - val_loss: 0.2625 - val_accuracy: 0.8987\n",
            "Epoch 19/25\n",
            "274/274 [==============================] - 48s 175ms/step - loss: 0.1911 - accuracy: 0.9237 - val_loss: 0.2704 - val_accuracy: 0.8960\n",
            "Epoch 20/25\n",
            "274/274 [==============================] - 48s 174ms/step - loss: 0.1973 - accuracy: 0.9187 - val_loss: 0.2689 - val_accuracy: 0.8918\n",
            "Epoch 21/25\n",
            "274/274 [==============================] - 48s 175ms/step - loss: 0.1884 - accuracy: 0.9240 - val_loss: 0.2759 - val_accuracy: 0.8981\n",
            "Epoch 22/25\n",
            "274/274 [==============================] - 48s 174ms/step - loss: 0.1782 - accuracy: 0.9282 - val_loss: 0.2783 - val_accuracy: 0.8901\n",
            "Epoch 23/25\n",
            "274/274 [==============================] - 47s 173ms/step - loss: 0.1856 - accuracy: 0.9250 - val_loss: 0.2645 - val_accuracy: 0.8949\n",
            "Epoch 24/25\n",
            "274/274 [==============================] - 47s 173ms/step - loss: 0.1744 - accuracy: 0.9283 - val_loss: 0.2720 - val_accuracy: 0.8929\n",
            "Epoch 25/25\n",
            "274/274 [==============================] - 47s 173ms/step - loss: 0.1655 - accuracy: 0.9324 - val_loss: 0.3028 - val_accuracy: 0.8877\n"
          ],
          "name": "stdout"
        }
      ]
    },
    {
      "cell_type": "code",
      "metadata": {
        "id": "3rETWO2yW6Kw"
      },
      "source": [
        "def plotLearningCurve(history,epochs):\n",
        "    import matplotlib.pyplot as plt\n",
        "\n",
        "    epoch_range = range(1,epochs+1)\n",
        "    plt.plot(epoch_range,history['accuracy'])\n",
        "    plt.plot(epoch_range,history['val_accuracy'])\n",
        "    plt.title('Model Accuracy')\n",
        "    plt.xlabel('Epochs')\n",
        "    plt.ylabel('Accuracy')\n",
        "    plt.legend(['Train','Val'])\n",
        "    plt.show()\n",
        "\n",
        "    plt.plot(epoch_range,history['loss'])\n",
        "    plt.plot(epoch_range,history['val_loss'])\n",
        "    plt.title('Model Loss')\n",
        "    plt.xlabel('Epochs')\n",
        "    plt.ylabel('Loss')\n",
        "    plt.legend(['Train','Val'])\n",
        "    plt.show()"
      ],
      "execution_count": 38,
      "outputs": []
    },
    {
      "cell_type": "code",
      "metadata": {
        "colab": {
          "base_uri": "https://localhost:8080/",
          "height": 573
        },
        "id": "6L0hjJTTbEyY",
        "outputId": "872fbbf6-a776-4ca0-a6e4-4b406f3855c9"
      },
      "source": [
        "plotLearningCurve(history.history,len(history.epoch))"
      ],
      "execution_count": 39,
      "outputs": [
        {
          "output_type": "display_data",
          "data": {
            "image/png": "[encoded data removed]",
            "text/plain": [
              "<Figure size 432x288 with 1 Axes>"
            ]
          },
          "metadata": {
            "tags": [],
            "needs_background": "light"
          }
        },
        {
          "output_type": "display_data",
          "data": {
            "image/png": "[encoded data removed]",
            "text/plain": [
              "<Figure size 432x288 with 1 Axes>"
            ]
          },
          "metadata": {
            "tags": [],
            "needs_background": "light"
          }
        }
      ]
    }
  ]
}