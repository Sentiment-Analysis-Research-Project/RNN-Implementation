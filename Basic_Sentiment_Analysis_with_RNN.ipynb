{
  "nbformat": 4,
  "nbformat_minor": 0,
  "metadata": {
    "colab": {
      "name": "Basic Sentiment Analysis with RNN.ipynb",
      "provenance": [],
      "authorship_tag": "ABX9TyPOwWXZygAATeoUCloYI77Y",
      "include_colab_link": true
    },
    "kernelspec": {
      "name": "python3",
      "display_name": "Python 3"
    },
    "language_info": {
      "name": "python"
    },
    "accelerator": "GPU"
  },
  "cells": [
    {
      "cell_type": "markdown",
      "metadata": {
        "id": "view-in-github",
        "colab_type": "text"
      },
      "source": [
        "<a href=\"https://colab.research.google.com/github/Sentiment-Analysis-Research-Project/RNN-Implementation/blob/main/Basic_Sentiment_Analysis_with_RNN.ipynb\" target=\"_parent\"><img src=\"https://colab.research.google.com/assets/colab-badge.svg\" alt=\"Open In Colab\"/></a>"
      ]
    },
    {
      "cell_type": "markdown",
      "metadata": {
        "id": "F0ooyzfD_MZa"
      },
      "source": [
        "[Reference](https://towardsdatascience.com/a-beginners-guide-on-sentiment-analysis-with-rnn-9e100627c02e)"
      ]
    },
    {
      "cell_type": "code",
      "metadata": {
        "id": "9XDfZktZkg78"
      },
      "source": [
        "from keras.datasets import imdb"
      ],
      "execution_count": 1,
      "outputs": []
    },
    {
      "cell_type": "markdown",
      "metadata": {
        "id": "Ex-h0Ug8rAFX"
      },
      "source": [
        "vocabulary size is the total number of unique words"
      ]
    },
    {
      "cell_type": "code",
      "metadata": {
        "colab": {
          "base_uri": "https://localhost:8080/"
        },
        "id": "k2HU_uixku0A",
        "outputId": "82c41ba8-81f5-4b5b-c40f-375712152dab"
      },
      "source": [
        "vocab_size = 20000\n",
        "(X_train, y_train), (X_test, y_test) = imdb.load_data(num_words=vocab_size)\n",
        "print(f'Loaded Dataset with {len(X_train)} training samples and {len(X_test)} testing samples')"
      ],
      "execution_count": 2,
      "outputs": [
        {
          "output_type": "stream",
          "text": [
            "Downloading data from https://storage.googleapis.com/tensorflow/tf-keras-datasets/imdb.npz\n",
            "17465344/17464789 [==============================] - 0s 0us/step\n",
            "17473536/17464789 [==============================] - 0s 0us/step\n"
          ],
          "name": "stdout"
        },
        {
          "output_type": "stream",
          "text": [
            "<string>:6: VisibleDeprecationWarning: Creating an ndarray from ragged nested sequences (which is a list-or-tuple of lists-or-tuples-or ndarrays with different lengths or shapes) is deprecated. If you meant to do this, you must specify 'dtype=object' when creating the ndarray\n",
            "/usr/local/lib/python3.7/dist-packages/keras/datasets/imdb.py:155: VisibleDeprecationWarning: Creating an ndarray from ragged nested sequences (which is a list-or-tuple of lists-or-tuples-or ndarrays with different lengths or shapes) is deprecated. If you meant to do this, you must specify 'dtype=object' when creating the ndarray\n",
            "  x_train, y_train = np.array(xs[:idx]), np.array(labels[:idx])\n"
          ],
          "name": "stderr"
        },
        {
          "output_type": "stream",
          "text": [
            "Loaded Dataset with 25000 training samples and 25000 testing samples\n"
          ],
          "name": "stdout"
        },
        {
          "output_type": "stream",
          "text": [
            "/usr/local/lib/python3.7/dist-packages/keras/datasets/imdb.py:156: VisibleDeprecationWarning: Creating an ndarray from ragged nested sequences (which is a list-or-tuple of lists-or-tuples-or ndarrays with different lengths or shapes) is deprecated. If you meant to do this, you must specify 'dtype=object' when creating the ndarray\n",
            "  x_test, y_test = np.array(xs[idx:]), np.array(labels[idx:])\n"
          ],
          "name": "stderr"
        }
      ]
    },
    {
      "cell_type": "markdown",
      "metadata": {
        "id": "dp9jfHsYrKz7"
      },
      "source": [
        "Inspect a sample review and its sentiment"
      ]
    },
    {
      "cell_type": "code",
      "metadata": {
        "colab": {
          "base_uri": "https://localhost:8080/"
        },
        "id": "YdOjfInMq6aL",
        "outputId": "cb3f7643-159c-4c82-b12f-825208628085"
      },
      "source": [
        "print('--------review---------')\n",
        "print(X_train[0])\n",
        "print('-------sentiment-------')\n",
        "print(y_train[0])"
      ],
      "execution_count": 3,
      "outputs": [
        {
          "output_type": "stream",
          "text": [
            "--------review---------\n",
            "[1, 14, 22, 16, 43, 530, 973, 1622, 1385, 65, 458, 4468, 66, 3941, 4, 173, 36, 256, 5, 25, 100, 43, 838, 112, 50, 670, 2, 9, 35, 480, 284, 5, 150, 4, 172, 112, 167, 2, 336, 385, 39, 4, 172, 4536, 1111, 17, 546, 38, 13, 447, 4, 192, 50, 16, 6, 147, 2025, 19, 14, 22, 4, 1920, 4613, 469, 4, 22, 71, 87, 12, 16, 43, 530, 38, 76, 15, 13, 1247, 4, 22, 17, 515, 17, 12, 16, 626, 18, 19193, 5, 62, 386, 12, 8, 316, 8, 106, 5, 4, 2223, 5244, 16, 480, 66, 3785, 33, 4, 130, 12, 16, 38, 619, 5, 25, 124, 51, 36, 135, 48, 25, 1415, 33, 6, 22, 12, 215, 28, 77, 52, 5, 14, 407, 16, 82, 10311, 8, 4, 107, 117, 5952, 15, 256, 4, 2, 7, 3766, 5, 723, 36, 71, 43, 530, 476, 26, 400, 317, 46, 7, 4, 12118, 1029, 13, 104, 88, 4, 381, 15, 297, 98, 32, 2071, 56, 26, 141, 6, 194, 7486, 18, 4, 226, 22, 21, 134, 476, 26, 480, 5, 144, 30, 5535, 18, 51, 36, 28, 224, 92, 25, 104, 4, 226, 65, 16, 38, 1334, 88, 12, 16, 283, 5, 16, 4472, 113, 103, 32, 15, 16, 5345, 19, 178, 32]\n",
            "-------sentiment-------\n",
            "1\n"
          ],
          "name": "stdout"
        }
      ]
    },
    {
      "cell_type": "markdown",
      "metadata": {
        "id": "rJlh69WGsj5z"
      },
      "source": [
        "Maximum and Minimum length of reviews"
      ]
    },
    {
      "cell_type": "code",
      "metadata": {
        "colab": {
          "base_uri": "https://localhost:8080/"
        },
        "id": "kPDtJ4rVrijt",
        "outputId": "aea8a33a-d6fc-45c6-f584-483825f70568"
      },
      "source": [
        "print(f'Maximum review length - {len(max((X_train + X_test),key=len))}')"
      ],
      "execution_count": 4,
      "outputs": [
        {
          "output_type": "stream",
          "text": [
            "Maximum review length - 2697\n"
          ],
          "name": "stdout"
        }
      ]
    },
    {
      "cell_type": "code",
      "metadata": {
        "colab": {
          "base_uri": "https://localhost:8080/"
        },
        "id": "IBYpFXlotUnc",
        "outputId": "e7a50cf8-0d6d-4e39-9413-074ab4159c84"
      },
      "source": [
        "print(f'Minimum review length - {len(min((X_test),key=len))}')"
      ],
      "execution_count": null,
      "outputs": [
        {
          "output_type": "stream",
          "text": [
            "Minimum review length - 7\n"
          ],
          "name": "stdout"
        }
      ]
    },
    {
      "cell_type": "code",
      "metadata": {
        "colab": {
          "base_uri": "https://localhost:8080/"
        },
        "id": "8zhANx5QuhUu",
        "outputId": "3a301db1-847c-4460-c6cc-8ea5789b1af4"
      },
      "source": [
        "print(len(X_train[0]))\n",
        "print(len(X_test[0]))\n",
        "print(len(X_train[0] + X_test[0]))"
      ],
      "execution_count": null,
      "outputs": [
        {
          "output_type": "stream",
          "text": [
            "218\n",
            "68\n",
            "286\n"
          ],
          "name": "stdout"
        }
      ]
    },
    {
      "cell_type": "markdown",
      "metadata": {
        "id": "xQgoWUcMuMOB"
      },
      "source": [
        "## Pad sequences\n",
        "In order to feed this data into our RNN, all input documents must have the same length. We will limit the maximum review length to max_words by truncating longer reviews and padding shorter reviews with a null value (0). We can accomplish this using the pad_sequences() function in Keras. For now, set max_words to 500."
      ]
    },
    {
      "cell_type": "code",
      "metadata": {
        "id": "P4BFJu54t4r4"
      },
      "source": [
        "from keras_preprocessing import sequence\n",
        "max_words = 2000\n",
        "X_train = sequence.pad_sequences(X_train,maxlen=max_words)\n",
        "X_test = sequence.pad_sequences(X_test,maxlen=max_words)"
      ],
      "execution_count": 5,
      "outputs": []
    },
    {
      "cell_type": "code",
      "metadata": {
        "id": "6JydFV7UytSJ"
      },
      "source": [
        "print(type(X_test))"
      ],
      "execution_count": null,
      "outputs": []
    },
    {
      "cell_type": "markdown",
      "metadata": {
        "id": "Ckd92Wdu9dJZ"
      },
      "source": [
        "## Design an RNN model for sentiment analysis"
      ]
    },
    {
      "cell_type": "code",
      "metadata": {
        "colab": {
          "base_uri": "https://localhost:8080/"
        },
        "id": "Zi_MuRqnw2eu",
        "outputId": "ce493c6e-9839-412f-9924-b32382db4156"
      },
      "source": [
        "from keras import Sequential\n",
        "from keras.layers import Embedding, LSTM, Dense, Dropout\n",
        "\n",
        "embedding_size=32\n",
        "model=Sequential()\n",
        "model.add(Embedding(vocab_size, embedding_size, input_length=max_words))\n",
        "model.add(LSTM(64,dropout=0.2))\n",
        "model.add(Dense(1, activation='sigmoid'))\n",
        "print(model.summary())"
      ],
      "execution_count": 13,
      "outputs": [
        {
          "output_type": "stream",
          "text": [
            "Model: \"sequential_1\"\n",
            "_________________________________________________________________\n",
            "Layer (type)                 Output Shape              Param #   \n",
            "=================================================================\n",
            "embedding_1 (Embedding)      (None, 2000, 32)          640000    \n",
            "_________________________________________________________________\n",
            "lstm_1 (LSTM)                (None, 64)                24832     \n",
            "_________________________________________________________________\n",
            "dense_1 (Dense)              (None, 1)                 65        \n",
            "=================================================================\n",
            "Total params: 664,897\n",
            "Trainable params: 664,897\n",
            "Non-trainable params: 0\n",
            "_________________________________________________________________\n",
            "None\n"
          ],
          "name": "stdout"
        }
      ]
    },
    {
      "cell_type": "markdown",
      "metadata": {
        "id": "UBGziXt79gNw"
      },
      "source": [
        "## Train and evaluate our model"
      ]
    },
    {
      "cell_type": "code",
      "metadata": {
        "id": "3qzV6PUH1Up3"
      },
      "source": [
        "model.compile(loss='binary_crossentropy', \n",
        "             optimizer='adam', \n",
        "             metrics=['accuracy'])"
      ],
      "execution_count": 7,
      "outputs": []
    },
    {
      "cell_type": "code",
      "metadata": {
        "colab": {
          "base_uri": "https://localhost:8080/"
        },
        "id": "WYAjhL3P2Agq",
        "outputId": "7f80bb58-4dad-4dcd-bb98-8a36c5a3473a"
      },
      "source": [
        "batch_size = 64\n",
        "num_epochs = 3\n",
        "X_valid, y_valid = X_train[:batch_size], y_train[:batch_size]\n",
        "X_train2, y_train2 = X_train[batch_size:], y_train[batch_size:]\n",
        "history = model.fit(X_train2, y_train2, validation_data=(X_valid, y_valid), batch_size=batch_size, epochs=num_epochs)"
      ],
      "execution_count": 9,
      "outputs": [
        {
          "output_type": "stream",
          "text": [
            "Epoch 1/10\n",
            "390/390 [==============================] - 31s 79ms/step - loss: 0.3404 - accuracy: 0.8592 - val_loss: 0.3039 - val_accuracy: 0.8750\n",
            "Epoch 2/10\n",
            "390/390 [==============================] - 30s 77ms/step - loss: 0.2046 - accuracy: 0.9232 - val_loss: 0.2710 - val_accuracy: 0.9062\n",
            "Epoch 3/10\n",
            "390/390 [==============================] - 30s 77ms/step - loss: 0.1422 - accuracy: 0.9502 - val_loss: 0.3534 - val_accuracy: 0.8906\n",
            "Epoch 4/10\n",
            "390/390 [==============================] - 30s 76ms/step - loss: 0.1196 - accuracy: 0.9596 - val_loss: 0.3755 - val_accuracy: 0.8594\n",
            "Epoch 5/10\n",
            "390/390 [==============================] - 30s 76ms/step - loss: 0.0868 - accuracy: 0.9718 - val_loss: 0.3800 - val_accuracy: 0.8594\n",
            "Epoch 6/10\n",
            "390/390 [==============================] - 30s 77ms/step - loss: 0.0739 - accuracy: 0.9753 - val_loss: 0.3647 - val_accuracy: 0.8750\n",
            "Epoch 7/10\n",
            "390/390 [==============================] - 30s 77ms/step - loss: 0.1322 - accuracy: 0.9489 - val_loss: 0.3811 - val_accuracy: 0.8750\n",
            "Epoch 8/10\n",
            "390/390 [==============================] - 30s 77ms/step - loss: 0.0578 - accuracy: 0.9819 - val_loss: 0.4112 - val_accuracy: 0.8750\n",
            "Epoch 9/10\n",
            "390/390 [==============================] - 30s 77ms/step - loss: 0.0458 - accuracy: 0.9855 - val_loss: 0.5618 - val_accuracy: 0.8594\n",
            "Epoch 10/10\n",
            "390/390 [==============================] - 30s 77ms/step - loss: 0.0385 - accuracy: 0.9882 - val_loss: 0.4538 - val_accuracy: 0.8750\n"
          ],
          "name": "stdout"
        }
      ]
    },
    {
      "cell_type": "code",
      "metadata": {
        "id": "6qds0-aNmw9s"
      },
      "source": [
        "def plotLearningCurve(history,epochs):\n",
        "    import matplotlib.pyplot as plt\n",
        "\n",
        "    epoch_range = range(1,epochs+1)\n",
        "    plt.plot(epoch_range,history['accuracy'])\n",
        "    plt.plot(epoch_range,history['val_accuracy'])\n",
        "    plt.title('Model Accuracy')\n",
        "    plt.xlabel('Epochs')\n",
        "    plt.ylabel('Accuracy')\n",
        "    plt.legend(['Train','Val'])\n",
        "    plt.show()\n",
        "\n",
        "    plt.plot(epoch_range,history['loss'])\n",
        "    plt.plot(epoch_range,history['val_loss'])\n",
        "    plt.title('Model Loss')\n",
        "    plt.xlabel('Epochs')\n",
        "    plt.ylabel('Loss')\n",
        "    plt.legend(['Train','Val'])\n",
        "    plt.show()"
      ],
      "execution_count": 10,
      "outputs": []
    },
    {
      "cell_type": "code",
      "metadata": {
        "colab": {
          "base_uri": "https://localhost:8080/",
          "height": 573
        },
        "id": "DM3q3hk7mxz7",
        "outputId": "6b720932-e48e-45ed-b256-160ccfdf99d7"
      },
      "source": [
        "plotLearningCurve(history.history,len(history.epoch))"
      ],
      "execution_count": 11,
      "outputs": [
        {
          "output_type": "display_data",
          "data": {
            "image/png": "[encoded data removed]",
            "text/plain": [
              "<Figure size 432x288 with 1 Axes>"
            ]
          },
          "metadata": {
            "tags": [],
            "needs_background": "light"
          }
        },
        {
          "output_type": "display_data",
          "data": {
            "image/png": "[encoded data removed]",
            "text/plain": [
              "<Figure size 432x288 with 1 Axes>"
            ]
          },
          "metadata": {
            "tags": [],
            "needs_background": "light"
          }
        }
      ]
    },
    {
      "cell_type": "markdown",
      "metadata": {
        "id": "aQiMx1J-9vR2"
      },
      "source": [
        "### Test accuracy"
      ]
    },
    {
      "cell_type": "code",
      "metadata": {
        "colab": {
          "base_uri": "https://localhost:8080/"
        },
        "id": "xU_raesG7Nx0",
        "outputId": "a6dd2b27-2c55-4f10-8bb6-47659686621f"
      },
      "source": [
        "scores = model.evaluate(X_test, y_test, verbose=0)\n",
        "print('Test accuracy:', scores[1])"
      ],
      "execution_count": 12,
      "outputs": [
        {
          "output_type": "stream",
          "text": [
            "Test accuracy: 0.8506399989128113\n"
          ],
          "name": "stdout"
        }
      ]
    }
  ]
}